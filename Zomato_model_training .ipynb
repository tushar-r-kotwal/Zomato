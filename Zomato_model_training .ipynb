{
 "cells": [
  {
   "cell_type": "code",
   "execution_count": 1,
   "id": "70985e8e",
   "metadata": {},
   "outputs": [],
   "source": [
    "import pandas as pd\n",
    "import numpy as np"
   ]
  },
  {
   "cell_type": "code",
   "execution_count": 46,
   "id": "1c2c009f",
   "metadata": {},
   "outputs": [],
   "source": [
    "data_1=pd.read_csv('data_1.csv')"
   ]
  },
  {
   "cell_type": "code",
   "execution_count": 47,
   "id": "ebd3cd41",
   "metadata": {},
   "outputs": [
    {
     "data": {
      "text/html": [
       "<div>\n",
       "<style scoped>\n",
       "    .dataframe tbody tr th:only-of-type {\n",
       "        vertical-align: middle;\n",
       "    }\n",
       "\n",
       "    .dataframe tbody tr th {\n",
       "        vertical-align: top;\n",
       "    }\n",
       "\n",
       "    .dataframe thead th {\n",
       "        text-align: right;\n",
       "    }\n",
       "</style>\n",
       "<table border=\"1\" class=\"dataframe\">\n",
       "  <thead>\n",
       "    <tr style=\"text-align: right;\">\n",
       "      <th></th>\n",
       "      <th>Unnamed: 0</th>\n",
       "      <th>online_order</th>\n",
       "      <th>book_table</th>\n",
       "      <th>votes</th>\n",
       "      <th>type</th>\n",
       "      <th>city</th>\n",
       "      <th>new_cuisines</th>\n",
       "      <th>rate_imputed</th>\n",
       "      <th>cost_imputed</th>\n",
       "    </tr>\n",
       "  </thead>\n",
       "  <tbody>\n",
       "    <tr>\n",
       "      <th>0</th>\n",
       "      <td>0</td>\n",
       "      <td>Yes</td>\n",
       "      <td>Yes</td>\n",
       "      <td>775</td>\n",
       "      <td>Buffet</td>\n",
       "      <td>Banashankari</td>\n",
       "      <td>North Indian</td>\n",
       "      <td>good</td>\n",
       "      <td>800.0</td>\n",
       "    </tr>\n",
       "    <tr>\n",
       "      <th>1</th>\n",
       "      <td>1</td>\n",
       "      <td>Yes</td>\n",
       "      <td>Yes</td>\n",
       "      <td>775</td>\n",
       "      <td>Buffet</td>\n",
       "      <td>Banashankari</td>\n",
       "      <td>Mughlai</td>\n",
       "      <td>good</td>\n",
       "      <td>800.0</td>\n",
       "    </tr>\n",
       "    <tr>\n",
       "      <th>2</th>\n",
       "      <td>2</td>\n",
       "      <td>Yes</td>\n",
       "      <td>Yes</td>\n",
       "      <td>775</td>\n",
       "      <td>Buffet</td>\n",
       "      <td>Banashankari</td>\n",
       "      <td>Chinese</td>\n",
       "      <td>good</td>\n",
       "      <td>800.0</td>\n",
       "    </tr>\n",
       "    <tr>\n",
       "      <th>3</th>\n",
       "      <td>3</td>\n",
       "      <td>Yes</td>\n",
       "      <td>No</td>\n",
       "      <td>787</td>\n",
       "      <td>Buffet</td>\n",
       "      <td>Banashankari</td>\n",
       "      <td>Chinese</td>\n",
       "      <td>good</td>\n",
       "      <td>800.0</td>\n",
       "    </tr>\n",
       "    <tr>\n",
       "      <th>4</th>\n",
       "      <td>4</td>\n",
       "      <td>Yes</td>\n",
       "      <td>No</td>\n",
       "      <td>787</td>\n",
       "      <td>Buffet</td>\n",
       "      <td>Banashankari</td>\n",
       "      <td>North Indian</td>\n",
       "      <td>good</td>\n",
       "      <td>800.0</td>\n",
       "    </tr>\n",
       "  </tbody>\n",
       "</table>\n",
       "</div>"
      ],
      "text/plain": [
       "   Unnamed: 0 online_order book_table  votes    type          city  \\\n",
       "0           0          Yes        Yes    775  Buffet  Banashankari   \n",
       "1           1          Yes        Yes    775  Buffet  Banashankari   \n",
       "2           2          Yes        Yes    775  Buffet  Banashankari   \n",
       "3           3          Yes         No    787  Buffet  Banashankari   \n",
       "4           4          Yes         No    787  Buffet  Banashankari   \n",
       "\n",
       "    new_cuisines rate_imputed  cost_imputed  \n",
       "0   North Indian         good         800.0  \n",
       "1        Mughlai         good         800.0  \n",
       "2        Chinese         good         800.0  \n",
       "3        Chinese         good         800.0  \n",
       "4   North Indian         good         800.0  "
      ]
     },
     "execution_count": 47,
     "metadata": {},
     "output_type": "execute_result"
    }
   ],
   "source": [
    "data_1.head()"
   ]
  },
  {
   "cell_type": "code",
   "execution_count": 48,
   "id": "695e8888",
   "metadata": {},
   "outputs": [],
   "source": [
    "data_1.drop('Unnamed: 0', axis=1, inplace=True)"
   ]
  },
  {
   "cell_type": "code",
   "execution_count": 49,
   "id": "27925ef5",
   "metadata": {},
   "outputs": [
    {
     "data": {
      "text/plain": [
       "(126819, 8)"
      ]
     },
     "execution_count": 49,
     "metadata": {},
     "output_type": "execute_result"
    }
   ],
   "source": [
    "data_1.shape"
   ]
  },
  {
   "cell_type": "code",
   "execution_count": 50,
   "id": "d2a1859f",
   "metadata": {},
   "outputs": [
    {
     "data": {
      "text/html": [
       "<div>\n",
       "<style scoped>\n",
       "    .dataframe tbody tr th:only-of-type {\n",
       "        vertical-align: middle;\n",
       "    }\n",
       "\n",
       "    .dataframe tbody tr th {\n",
       "        vertical-align: top;\n",
       "    }\n",
       "\n",
       "    .dataframe thead th {\n",
       "        text-align: right;\n",
       "    }\n",
       "</style>\n",
       "<table border=\"1\" class=\"dataframe\">\n",
       "  <thead>\n",
       "    <tr style=\"text-align: right;\">\n",
       "      <th></th>\n",
       "      <th>online_order</th>\n",
       "      <th>book_table</th>\n",
       "      <th>votes</th>\n",
       "      <th>type</th>\n",
       "      <th>city</th>\n",
       "      <th>new_cuisines</th>\n",
       "      <th>rate_imputed</th>\n",
       "      <th>cost_imputed</th>\n",
       "    </tr>\n",
       "  </thead>\n",
       "  <tbody>\n",
       "    <tr>\n",
       "      <th>0</th>\n",
       "      <td>Yes</td>\n",
       "      <td>Yes</td>\n",
       "      <td>775</td>\n",
       "      <td>Buffet</td>\n",
       "      <td>Banashankari</td>\n",
       "      <td>North Indian</td>\n",
       "      <td>good</td>\n",
       "      <td>800.0</td>\n",
       "    </tr>\n",
       "    <tr>\n",
       "      <th>1</th>\n",
       "      <td>Yes</td>\n",
       "      <td>Yes</td>\n",
       "      <td>775</td>\n",
       "      <td>Buffet</td>\n",
       "      <td>Banashankari</td>\n",
       "      <td>Mughlai</td>\n",
       "      <td>good</td>\n",
       "      <td>800.0</td>\n",
       "    </tr>\n",
       "    <tr>\n",
       "      <th>2</th>\n",
       "      <td>Yes</td>\n",
       "      <td>Yes</td>\n",
       "      <td>775</td>\n",
       "      <td>Buffet</td>\n",
       "      <td>Banashankari</td>\n",
       "      <td>Chinese</td>\n",
       "      <td>good</td>\n",
       "      <td>800.0</td>\n",
       "    </tr>\n",
       "    <tr>\n",
       "      <th>3</th>\n",
       "      <td>Yes</td>\n",
       "      <td>No</td>\n",
       "      <td>787</td>\n",
       "      <td>Buffet</td>\n",
       "      <td>Banashankari</td>\n",
       "      <td>Chinese</td>\n",
       "      <td>good</td>\n",
       "      <td>800.0</td>\n",
       "    </tr>\n",
       "    <tr>\n",
       "      <th>4</th>\n",
       "      <td>Yes</td>\n",
       "      <td>No</td>\n",
       "      <td>787</td>\n",
       "      <td>Buffet</td>\n",
       "      <td>Banashankari</td>\n",
       "      <td>North Indian</td>\n",
       "      <td>good</td>\n",
       "      <td>800.0</td>\n",
       "    </tr>\n",
       "  </tbody>\n",
       "</table>\n",
       "</div>"
      ],
      "text/plain": [
       "  online_order book_table  votes    type          city   new_cuisines  \\\n",
       "0          Yes        Yes    775  Buffet  Banashankari   North Indian   \n",
       "1          Yes        Yes    775  Buffet  Banashankari        Mughlai   \n",
       "2          Yes        Yes    775  Buffet  Banashankari        Chinese   \n",
       "3          Yes         No    787  Buffet  Banashankari        Chinese   \n",
       "4          Yes         No    787  Buffet  Banashankari   North Indian   \n",
       "\n",
       "  rate_imputed  cost_imputed  \n",
       "0         good         800.0  \n",
       "1         good         800.0  \n",
       "2         good         800.0  \n",
       "3         good         800.0  \n",
       "4         good         800.0  "
      ]
     },
     "execution_count": 50,
     "metadata": {},
     "output_type": "execute_result"
    }
   ],
   "source": [
    "data_1.head()"
   ]
  },
  {
   "cell_type": "code",
   "execution_count": 51,
   "id": "e832fca3",
   "metadata": {},
   "outputs": [],
   "source": [
    "#data_1=data_1.sample(65000, random_state=34)"
   ]
  },
  {
   "cell_type": "code",
   "execution_count": 52,
   "id": "dd9369a5",
   "metadata": {},
   "outputs": [
    {
     "data": {
      "text/plain": [
       "(126819, 8)"
      ]
     },
     "execution_count": 52,
     "metadata": {},
     "output_type": "execute_result"
    }
   ],
   "source": [
    "data_1.shape"
   ]
  },
  {
   "cell_type": "code",
   "execution_count": 53,
   "id": "42f47340",
   "metadata": {},
   "outputs": [
    {
     "data": {
      "text/html": [
       "<div>\n",
       "<style scoped>\n",
       "    .dataframe tbody tr th:only-of-type {\n",
       "        vertical-align: middle;\n",
       "    }\n",
       "\n",
       "    .dataframe tbody tr th {\n",
       "        vertical-align: top;\n",
       "    }\n",
       "\n",
       "    .dataframe thead th {\n",
       "        text-align: right;\n",
       "    }\n",
       "</style>\n",
       "<table border=\"1\" class=\"dataframe\">\n",
       "  <thead>\n",
       "    <tr style=\"text-align: right;\">\n",
       "      <th></th>\n",
       "      <th>online_order</th>\n",
       "      <th>book_table</th>\n",
       "      <th>votes</th>\n",
       "      <th>type</th>\n",
       "      <th>city</th>\n",
       "      <th>new_cuisines</th>\n",
       "      <th>rate_imputed</th>\n",
       "      <th>cost_imputed</th>\n",
       "    </tr>\n",
       "  </thead>\n",
       "  <tbody>\n",
       "    <tr>\n",
       "      <th>0</th>\n",
       "      <td>Yes</td>\n",
       "      <td>Yes</td>\n",
       "      <td>775</td>\n",
       "      <td>Buffet</td>\n",
       "      <td>Banashankari</td>\n",
       "      <td>North Indian</td>\n",
       "      <td>good</td>\n",
       "      <td>800.0</td>\n",
       "    </tr>\n",
       "    <tr>\n",
       "      <th>1</th>\n",
       "      <td>Yes</td>\n",
       "      <td>Yes</td>\n",
       "      <td>775</td>\n",
       "      <td>Buffet</td>\n",
       "      <td>Banashankari</td>\n",
       "      <td>Mughlai</td>\n",
       "      <td>good</td>\n",
       "      <td>800.0</td>\n",
       "    </tr>\n",
       "    <tr>\n",
       "      <th>2</th>\n",
       "      <td>Yes</td>\n",
       "      <td>Yes</td>\n",
       "      <td>775</td>\n",
       "      <td>Buffet</td>\n",
       "      <td>Banashankari</td>\n",
       "      <td>Chinese</td>\n",
       "      <td>good</td>\n",
       "      <td>800.0</td>\n",
       "    </tr>\n",
       "    <tr>\n",
       "      <th>3</th>\n",
       "      <td>Yes</td>\n",
       "      <td>No</td>\n",
       "      <td>787</td>\n",
       "      <td>Buffet</td>\n",
       "      <td>Banashankari</td>\n",
       "      <td>Chinese</td>\n",
       "      <td>good</td>\n",
       "      <td>800.0</td>\n",
       "    </tr>\n",
       "    <tr>\n",
       "      <th>4</th>\n",
       "      <td>Yes</td>\n",
       "      <td>No</td>\n",
       "      <td>787</td>\n",
       "      <td>Buffet</td>\n",
       "      <td>Banashankari</td>\n",
       "      <td>North Indian</td>\n",
       "      <td>good</td>\n",
       "      <td>800.0</td>\n",
       "    </tr>\n",
       "  </tbody>\n",
       "</table>\n",
       "</div>"
      ],
      "text/plain": [
       "  online_order book_table  votes    type          city   new_cuisines  \\\n",
       "0          Yes        Yes    775  Buffet  Banashankari   North Indian   \n",
       "1          Yes        Yes    775  Buffet  Banashankari        Mughlai   \n",
       "2          Yes        Yes    775  Buffet  Banashankari        Chinese   \n",
       "3          Yes         No    787  Buffet  Banashankari        Chinese   \n",
       "4          Yes         No    787  Buffet  Banashankari   North Indian   \n",
       "\n",
       "  rate_imputed  cost_imputed  \n",
       "0         good         800.0  \n",
       "1         good         800.0  \n",
       "2         good         800.0  \n",
       "3         good         800.0  \n",
       "4         good         800.0  "
      ]
     },
     "execution_count": 53,
     "metadata": {},
     "output_type": "execute_result"
    }
   ],
   "source": [
    "data_1.head()"
   ]
  },
  {
   "cell_type": "code",
   "execution_count": 54,
   "id": "61bf7ffd",
   "metadata": {},
   "outputs": [],
   "source": [
    "data_1.reset_index(drop=True, inplace=True)"
   ]
  },
  {
   "cell_type": "code",
   "execution_count": 55,
   "id": "a8891972",
   "metadata": {},
   "outputs": [
    {
     "name": "stdout",
     "output_type": "stream",
     "text": [
      "<class 'pandas.core.frame.DataFrame'>\n",
      "RangeIndex: 126819 entries, 0 to 126818\n",
      "Data columns (total 8 columns):\n",
      " #   Column        Non-Null Count   Dtype  \n",
      "---  ------        --------------   -----  \n",
      " 0   online_order  126819 non-null  object \n",
      " 1   book_table    126819 non-null  object \n",
      " 2   votes         126819 non-null  int64  \n",
      " 3   type          112903 non-null  object \n",
      " 4   city          112903 non-null  object \n",
      " 5   new_cuisines  126819 non-null  object \n",
      " 6   rate_imputed  126819 non-null  object \n",
      " 7   cost_imputed  126819 non-null  float64\n",
      "dtypes: float64(1), int64(1), object(6)\n",
      "memory usage: 7.7+ MB\n"
     ]
    }
   ],
   "source": [
    "data_1.info()"
   ]
  },
  {
   "cell_type": "code",
   "execution_count": 56,
   "id": "f24492a6",
   "metadata": {},
   "outputs": [],
   "source": [
    "data_1['type']=data_1['type'].fillna(data_1['type'].mode()[0])\n",
    "data_1['city']=data_1['city'].fillna(data_1['city'].mode()[0])"
   ]
  },
  {
   "cell_type": "code",
   "execution_count": 57,
   "id": "0b86dacc",
   "metadata": {},
   "outputs": [
    {
     "name": "stdout",
     "output_type": "stream",
     "text": [
      "<class 'pandas.core.frame.DataFrame'>\n",
      "RangeIndex: 126819 entries, 0 to 126818\n",
      "Data columns (total 8 columns):\n",
      " #   Column        Non-Null Count   Dtype  \n",
      "---  ------        --------------   -----  \n",
      " 0   online_order  126819 non-null  object \n",
      " 1   book_table    126819 non-null  object \n",
      " 2   votes         126819 non-null  int64  \n",
      " 3   type          126819 non-null  object \n",
      " 4   city          126819 non-null  object \n",
      " 5   new_cuisines  126819 non-null  object \n",
      " 6   rate_imputed  126819 non-null  object \n",
      " 7   cost_imputed  126819 non-null  float64\n",
      "dtypes: float64(1), int64(1), object(6)\n",
      "memory usage: 7.7+ MB\n"
     ]
    }
   ],
   "source": [
    "data_1.info()"
   ]
  },
  {
   "cell_type": "code",
   "execution_count": 58,
   "id": "36f6ac2a",
   "metadata": {},
   "outputs": [],
   "source": [
    "from sklearn.compose import ColumnTransformer"
   ]
  },
  {
   "cell_type": "code",
   "execution_count": 59,
   "id": "c25e0484",
   "metadata": {},
   "outputs": [],
   "source": [
    "from sklearn.model_selection import train_test_split\n",
    "x_train, x_test, y_train, y_test = train_test_split(data_1.drop(columns=['cost_imputed']), data_1['cost_imputed'] \n",
    "                                                    ,test_size=0.25,random_state=76)"
   ]
  },
  {
   "cell_type": "code",
   "execution_count": null,
   "id": "45568cf5",
   "metadata": {},
   "outputs": [],
   "source": []
  },
  {
   "cell_type": "code",
   "execution_count": 60,
   "id": "a4980757",
   "metadata": {},
   "outputs": [],
   "source": [
    "from sklearn.preprocessing import OrdinalEncoder\n",
    "from sklearn.preprocessing import OneHotEncoder"
   ]
  },
  {
   "cell_type": "code",
   "execution_count": 61,
   "id": "be8db77b",
   "metadata": {},
   "outputs": [],
   "source": [
    "transformer = ColumnTransformer(transformers = [\n",
    "    ('oe',OrdinalEncoder(categories=[['poor','good',\"verygood\"]]),['rate_imputed']),\n",
    "    ('ohe',OneHotEncoder(sparse=False,drop='first'),[\"online_order\",\"book_table\",'type','city','new_cuisines'])\n",
    "], remainder = 'passthrough')"
   ]
  },
  {
   "cell_type": "code",
   "execution_count": 75,
   "id": "876037e2",
   "metadata": {},
   "outputs": [],
   "source": [
    "X_train = transformer.fit_transform(x_train)"
   ]
  },
  {
   "cell_type": "code",
   "execution_count": 77,
   "id": "8639479a",
   "metadata": {},
   "outputs": [],
   "source": [
    "X_test =transformer.transform(x_test)"
   ]
  },
  {
   "cell_type": "code",
   "execution_count": null,
   "id": "1712171c",
   "metadata": {},
   "outputs": [],
   "source": []
  },
  {
   "cell_type": "markdown",
   "id": "b9eeeb82",
   "metadata": {},
   "source": [
    "### Model Training"
   ]
  },
  {
   "cell_type": "markdown",
   "id": "072b7de5",
   "metadata": {},
   "source": [
    "#### Decision Tree"
   ]
  },
  {
   "cell_type": "code",
   "execution_count": null,
   "id": "d589f02e",
   "metadata": {},
   "outputs": [],
   "source": [
    "from sklearn.metrics import mean_absolute_error,mean_squared_error"
   ]
  },
  {
   "cell_type": "code",
   "execution_count": 80,
   "id": "0d669a22",
   "metadata": {},
   "outputs": [],
   "source": [
    "from sklearn.tree import DecisionTreeRegressor"
   ]
  },
  {
   "cell_type": "code",
   "execution_count": 81,
   "id": "f2c67578",
   "metadata": {},
   "outputs": [],
   "source": [
    "dt = DecisionTreeRegressor()"
   ]
  },
  {
   "cell_type": "code",
   "execution_count": 85,
   "id": "9d590788",
   "metadata": {},
   "outputs": [
    {
     "name": "stdout",
     "output_type": "stream",
     "text": [
      "CPU times: total: 11.2 s\n",
      "Wall time: 11.2 s\n"
     ]
    },
    {
     "data": {
      "text/plain": [
       "DecisionTreeRegressor()"
      ]
     },
     "execution_count": 85,
     "metadata": {},
     "output_type": "execute_result"
    }
   ],
   "source": [
    "%%time\n",
    "dt.fit(X_train, y_train)"
   ]
  },
  {
   "cell_type": "code",
   "execution_count": 83,
   "id": "98e530e0",
   "metadata": {},
   "outputs": [
    {
     "data": {
      "text/plain": [
       "0.9757954727817365"
      ]
     },
     "execution_count": 83,
     "metadata": {},
     "output_type": "execute_result"
    }
   ],
   "source": [
    "dt.score(X_train, y_train)"
   ]
  },
  {
   "cell_type": "code",
   "execution_count": 84,
   "id": "f5aae1ae",
   "metadata": {},
   "outputs": [
    {
     "data": {
      "text/plain": [
       "0.7543408630634844"
      ]
     },
     "execution_count": 84,
     "metadata": {},
     "output_type": "execute_result"
    }
   ],
   "source": [
    "dt.score(X_test, y_test)"
   ]
  },
  {
   "cell_type": "markdown",
   "id": "dca56322",
   "metadata": {},
   "source": [
    "##### DT Grid"
   ]
  },
  {
   "cell_type": "code",
   "execution_count": 154,
   "id": "225b74ae",
   "metadata": {},
   "outputs": [],
   "source": [
    "from sklearn.model_selection import GridSearchCV"
   ]
  },
  {
   "cell_type": "code",
   "execution_count": 155,
   "id": "632e657c",
   "metadata": {},
   "outputs": [],
   "source": [
    "tree_para={\n",
    "    'min_samples_leaf':[3,4,5,8],\n",
    "    'max_depth':[20, 25, 30],\n",
    "    'min_samples_split':[5,8,10]\n",
    "    }"
   ]
  },
  {
   "cell_type": "code",
   "execution_count": 156,
   "id": "8587b531",
   "metadata": {},
   "outputs": [],
   "source": [
    "rf1=DecisionTreeRegressor()"
   ]
  },
  {
   "cell_type": "code",
   "execution_count": 157,
   "id": "528b3b3d",
   "metadata": {},
   "outputs": [],
   "source": [
    "gcv= GridSearchCV(rf1,tree_para,n_jobs=-1, verbose=2,cv=3)"
   ]
  },
  {
   "cell_type": "code",
   "execution_count": 160,
   "id": "3d25d2da",
   "metadata": {},
   "outputs": [
    {
     "name": "stdout",
     "output_type": "stream",
     "text": [
      "Fitting 3 folds for each of 36 candidates, totalling 108 fits\n"
     ]
    },
    {
     "data": {
      "text/plain": [
       "GridSearchCV(cv=3, estimator=DecisionTreeRegressor(), n_jobs=-1,\n",
       "             param_grid={'max_depth': [20, 25, 30],\n",
       "                         'min_samples_leaf': [3, 4, 5, 8],\n",
       "                         'min_samples_split': [5, 8, 10]},\n",
       "             verbose=2)"
      ]
     },
     "execution_count": 160,
     "metadata": {},
     "output_type": "execute_result"
    }
   ],
   "source": [
    "gcv.fit(X_train, y_train)"
   ]
  },
  {
   "cell_type": "code",
   "execution_count": 162,
   "id": "f15dbef5",
   "metadata": {},
   "outputs": [
    {
     "data": {
      "text/plain": [
       "{'max_depth': 30, 'min_samples_leaf': 3, 'min_samples_split': 5}"
      ]
     },
     "execution_count": 162,
     "metadata": {},
     "output_type": "execute_result"
    }
   ],
   "source": [
    "gcv.best_params_"
   ]
  },
  {
   "cell_type": "code",
   "execution_count": 161,
   "id": "0d523bf1",
   "metadata": {},
   "outputs": [
    {
     "data": {
      "text/plain": [
       "0.7314346086017709"
      ]
     },
     "execution_count": 161,
     "metadata": {},
     "output_type": "execute_result"
    }
   ],
   "source": [
    "gcv.best_score_"
   ]
  },
  {
   "cell_type": "markdown",
   "id": "bc37cf1e",
   "metadata": {},
   "source": [
    "#### Random Forest"
   ]
  },
  {
   "cell_type": "code",
   "execution_count": 87,
   "id": "39c5c8e4",
   "metadata": {},
   "outputs": [],
   "source": [
    "from sklearn.ensemble import RandomForestRegressor"
   ]
  },
  {
   "cell_type": "code",
   "execution_count": 137,
   "id": "6d75b517",
   "metadata": {
    "scrolled": true
   },
   "outputs": [
    {
     "name": "stdout",
     "output_type": "stream",
     "text": [
      "CPU times: total: 0 ns\n",
      "Wall time: 0 ns\n"
     ]
    }
   ],
   "source": [
    "%%time\n",
    "rf=RandomForestRegressor(n_estimators=20,max_depth=38,min_samples_split=5, n_jobs=-1, verbose=2)"
   ]
  },
  {
   "cell_type": "code",
   "execution_count": 138,
   "id": "a52971af",
   "metadata": {},
   "outputs": [
    {
     "name": "stderr",
     "output_type": "stream",
     "text": [
      "[Parallel(n_jobs=-1)]: Using backend ThreadingBackend with 4 concurrent workers.\n"
     ]
    },
    {
     "name": "stdout",
     "output_type": "stream",
     "text": [
      "building tree 1 of 20building tree 2 of 20\n",
      "building tree 3 of 20building tree 4 of 20\n",
      "\n",
      "\n",
      "building tree 5 of 20\n",
      "building tree 6 of 20\n",
      "building tree 7 of 20\n",
      "building tree 8 of 20\n",
      "building tree 9 of 20\n",
      "building tree 10 of 20\n",
      "building tree 11 of 20\n",
      "building tree 12 of 20\n",
      "building tree 13 of 20\n",
      "building tree 14 of 20\n",
      "building tree 15 of 20\n",
      "building tree 16 of 20\n",
      "building tree 17 of 20\n",
      "building tree 18 of 20\n",
      "building tree 19 of 20\n",
      "building tree 20 of 20\n",
      "CPU times: total: 3min 40s\n",
      "Wall time: 1min 6s\n"
     ]
    },
    {
     "name": "stderr",
     "output_type": "stream",
     "text": [
      "[Parallel(n_jobs=-1)]: Done  20 out of  20 | elapsed:  1.1min finished\n"
     ]
    },
    {
     "data": {
      "text/plain": [
       "RandomForestRegressor(max_depth=38, min_samples_split=5, n_estimators=20,\n",
       "                      n_jobs=-1, verbose=2)"
      ]
     },
     "execution_count": 138,
     "metadata": {},
     "output_type": "execute_result"
    }
   ],
   "source": [
    "%%time\n",
    "rf.fit(X_train, y_train)"
   ]
  },
  {
   "cell_type": "code",
   "execution_count": 139,
   "id": "8544e81f",
   "metadata": {},
   "outputs": [
    {
     "name": "stderr",
     "output_type": "stream",
     "text": [
      "[Parallel(n_jobs=4)]: Using backend ThreadingBackend with 4 concurrent workers.\n",
      "[Parallel(n_jobs=4)]: Done  20 out of  20 | elapsed:    0.2s finished\n"
     ]
    },
    {
     "data": {
      "text/plain": [
       "0.8952383808072021"
      ]
     },
     "execution_count": 139,
     "metadata": {},
     "output_type": "execute_result"
    }
   ],
   "source": [
    "rf.score(X_train, y_train)"
   ]
  },
  {
   "cell_type": "code",
   "execution_count": 140,
   "id": "95f19246",
   "metadata": {},
   "outputs": [
    {
     "name": "stderr",
     "output_type": "stream",
     "text": [
      "[Parallel(n_jobs=4)]: Using backend ThreadingBackend with 4 concurrent workers.\n",
      "[Parallel(n_jobs=4)]: Done  20 out of  20 | elapsed:    0.0s finished\n"
     ]
    },
    {
     "data": {
      "text/plain": [
       "0.8132939216688841"
      ]
     },
     "execution_count": 140,
     "metadata": {},
     "output_type": "execute_result"
    }
   ],
   "source": [
    "rf.score(X_test, y_test)"
   ]
  },
  {
   "cell_type": "code",
   "execution_count": null,
   "id": "3fee5279",
   "metadata": {},
   "outputs": [],
   "source": []
  },
  {
   "cell_type": "code",
   "execution_count": 141,
   "id": "cf22873b",
   "metadata": {},
   "outputs": [
    {
     "name": "stderr",
     "output_type": "stream",
     "text": [
      "[Parallel(n_jobs=4)]: Using backend ThreadingBackend with 4 concurrent workers.\n",
      "[Parallel(n_jobs=4)]: Done  20 out of  20 | elapsed:    0.0s finished\n"
     ]
    }
   ],
   "source": [
    "rf_y_pred=rf.predict(X_test)"
   ]
  },
  {
   "cell_type": "code",
   "execution_count": 142,
   "id": "f9ee0a6d",
   "metadata": {},
   "outputs": [],
   "source": []
  },
  {
   "cell_type": "code",
   "execution_count": 143,
   "id": "22bbe248",
   "metadata": {},
   "outputs": [
    {
     "name": "stdout",
     "output_type": "stream",
     "text": [
      "120.55898250936795\n"
     ]
    }
   ],
   "source": [
    "print(mean_absolute_error(y_test,rf_y_pred))"
   ]
  },
  {
   "cell_type": "markdown",
   "id": "b03a1392",
   "metadata": {},
   "source": [
    "##### RF with grid"
   ]
  },
  {
   "cell_type": "code",
   "execution_count": 110,
   "id": "9104c585",
   "metadata": {},
   "outputs": [],
   "source": [
    "from sklearn.model_selection import GridSearchCV"
   ]
  },
  {
   "cell_type": "code",
   "execution_count": 144,
   "id": "c4c38b46",
   "metadata": {},
   "outputs": [],
   "source": [
    "grid_param = {\n",
    "    \"max_depth\":[36,37,38],\n",
    "    \"n_estimators\" : [15,20,25],\n",
    "    'min_samples_leaf' : [4,5],\n",
    "}"
   ]
  },
  {
   "cell_type": "code",
   "execution_count": 145,
   "id": "e2be5250",
   "metadata": {},
   "outputs": [],
   "source": [
    "rf1=RandomForestRegressor()"
   ]
  },
  {
   "cell_type": "code",
   "execution_count": 146,
   "id": "46979b69",
   "metadata": {},
   "outputs": [],
   "source": [
    "gscv= GridSearchCV(estimator=rf1,param_grid=grid_param,cv=3,n_jobs=-1,verbose=2)"
   ]
  },
  {
   "cell_type": "code",
   "execution_count": 147,
   "id": "fd1b21d5",
   "metadata": {},
   "outputs": [
    {
     "name": "stdout",
     "output_type": "stream",
     "text": [
      "Fitting 3 folds for each of 18 candidates, totalling 54 fits\n"
     ]
    },
    {
     "data": {
      "text/plain": [
       "GridSearchCV(cv=3, estimator=RandomForestRegressor(), n_jobs=-1,\n",
       "             param_grid={'max_depth': [36, 37, 38], 'min_samples_leaf': [4, 5],\n",
       "                         'n_estimators': [15, 20, 25]},\n",
       "             verbose=2)"
      ]
     },
     "execution_count": 147,
     "metadata": {},
     "output_type": "execute_result"
    }
   ],
   "source": [
    "gscv.fit(X_train, y_train)"
   ]
  },
  {
   "cell_type": "code",
   "execution_count": 148,
   "id": "ac532e1f",
   "metadata": {},
   "outputs": [
    {
     "data": {
      "text/plain": [
       "{'max_depth': 37, 'min_samples_leaf': 4, 'n_estimators': 25}"
      ]
     },
     "execution_count": 148,
     "metadata": {},
     "output_type": "execute_result"
    }
   ],
   "source": [
    "gscv.best_params_"
   ]
  },
  {
   "cell_type": "code",
   "execution_count": null,
   "id": "d82b0505",
   "metadata": {},
   "outputs": [],
   "source": []
  },
  {
   "cell_type": "code",
   "execution_count": 150,
   "id": "07f04115",
   "metadata": {},
   "outputs": [],
   "source": [
    "rf_hp=RandomForestRegressor(max_depth= 37, min_samples_leaf=4, n_estimators=25)"
   ]
  },
  {
   "cell_type": "code",
   "execution_count": 151,
   "id": "7048fe25",
   "metadata": {},
   "outputs": [
    {
     "data": {
      "text/plain": [
       "RandomForestRegressor(max_depth=37, min_samples_leaf=4, n_estimators=25)"
      ]
     },
     "execution_count": 151,
     "metadata": {},
     "output_type": "execute_result"
    }
   ],
   "source": [
    "rf_hp.fit(X_train,y_train)"
   ]
  },
  {
   "cell_type": "code",
   "execution_count": 152,
   "id": "3aacd6aa",
   "metadata": {},
   "outputs": [
    {
     "data": {
      "text/plain": [
       "0.8500850118879782"
      ]
     },
     "execution_count": 152,
     "metadata": {},
     "output_type": "execute_result"
    }
   ],
   "source": [
    "rf_hp.score(X_train,y_train)"
   ]
  },
  {
   "cell_type": "code",
   "execution_count": 153,
   "id": "393e40ef",
   "metadata": {},
   "outputs": [
    {
     "data": {
      "text/plain": [
       "0.793944048748963"
      ]
     },
     "execution_count": 153,
     "metadata": {},
     "output_type": "execute_result"
    }
   ],
   "source": [
    "rf_hp.score(X_test,y_test)"
   ]
  },
  {
   "cell_type": "code",
   "execution_count": 163,
   "id": "49d3d119",
   "metadata": {},
   "outputs": [
    {
     "data": {
      "text/plain": [
       "0.767045153750325"
      ]
     },
     "execution_count": 163,
     "metadata": {},
     "output_type": "execute_result"
    }
   ],
   "source": [
    "gscv.best_score_"
   ]
  },
  {
   "cell_type": "code",
   "execution_count": null,
   "id": "6d50875f",
   "metadata": {},
   "outputs": [],
   "source": []
  }
 ],
 "metadata": {
  "kernelspec": {
   "display_name": "Python 3 (ipykernel)",
   "language": "python",
   "name": "python3"
  },
  "language_info": {
   "codemirror_mode": {
    "name": "ipython",
    "version": 3
   },
   "file_extension": ".py",
   "mimetype": "text/x-python",
   "name": "python",
   "nbconvert_exporter": "python",
   "pygments_lexer": "ipython3",
   "version": "3.9.12"
  }
 },
 "nbformat": 4,
 "nbformat_minor": 5
}
